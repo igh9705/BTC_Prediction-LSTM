{
  "nbformat": 4,
  "nbformat_minor": 0,
  "metadata": {
    "colab": {
      "provenance": [],
      "collapsed_sections": []
    },
    "kernelspec": {
      "name": "python3",
      "display_name": "Python 3"
    },
    "language_info": {
      "name": "python"
    },
    "accelerator": "GPU"
  },
  "cells": [
    {
      "cell_type": "code",
      "execution_count": 1,
      "metadata": {
        "id": "Kn0zhCWJwUEz"
      },
      "outputs": [],
      "source": [
        "import warnings\n",
        "warnings.filterwarnings('ignore')\n",
        "import os\n",
        "import pandas as pd\n",
        "import numpy as np\n",
        "import math\n",
        "import datetime as dt\n",
        "import matplotlib.pyplot as plt\n",
        "\n",
        "from sklearn.metrics import mean_squared_error, mean_absolute_error, explained_variance_score, r2_score \n",
        "from sklearn.metrics import mean_poisson_deviance, mean_gamma_deviance, accuracy_score\n",
        "from sklearn.preprocessing import MinMaxScaler\n",
        "\n",
        "from itertools import product\n",
        "import statsmodels.api as sm\n",
        "\n",
        "import tensorflow as tf\n",
        "\n",
        "from tensorflow.keras.models import Sequential\n",
        "from tensorflow.keras.layers import Dense, Dropout\n",
        "from tensorflow.keras.layers import LSTM\n",
        "\n",
        "from itertools import cycle\n",
        "import plotly.offline as py\n",
        "import plotly.graph_objects as go\n",
        "import plotly.express as px\n",
        "from plotly.subplots import make_subplots\n",
        "\n",
        "plt.style.use('seaborn-darkgrid')"
      ]
    },
    {
      "cell_type": "code",
      "source": [
        "import warnings\n",
        "warnings.filterwarnings(\"ignore\")\n",
        "from Historic_Crypto import HistoricalData\n",
        "\n",
        "#btc_historicals = HistoricalData(\"BTC-USD\", 300, \"2015-12-29-00-00\", \"2021-10-30-00-00\").retrieve_data()\n",
        "#btc_historicals.to_csv(\"/content/drive/MyDrive/ColabNotebooks/btc_5min.csv\")\n"
      ],
      "metadata": {
        "id": "rYAQtS-fwaZ5"
      },
      "execution_count": 3,
      "outputs": []
    },
    {
      "cell_type": "code",
      "source": [
        "pip install Historic-Crypto"
      ],
      "metadata": {
        "colab": {
          "base_uri": "https://localhost:8080/"
        },
        "id": "Ln2Vek0FU8kL",
        "outputId": "fbbeb00c-25c8-47ac-d3ba-e446863d6157"
      },
      "execution_count": 2,
      "outputs": [
        {
          "output_type": "stream",
          "name": "stdout",
          "text": [
            "Looking in indexes: https://pypi.org/simple, https://us-python.pkg.dev/colab-wheels/public/simple/\n",
            "Collecting Historic-Crypto\n",
            "  Downloading Historic_Crypto-0.1.6-py3-none-any.whl (8.8 kB)\n",
            "Requirement already satisfied: numpy in /usr/local/lib/python3.7/dist-packages (from Historic-Crypto) (1.21.6)\n",
            "Requirement already satisfied: requests in /usr/local/lib/python3.7/dist-packages (from Historic-Crypto) (2.23.0)\n",
            "Requirement already satisfied: idna<3,>=2.5 in /usr/local/lib/python3.7/dist-packages (from requests->Historic-Crypto) (2.10)\n",
            "Requirement already satisfied: urllib3!=1.25.0,!=1.25.1,<1.26,>=1.21.1 in /usr/local/lib/python3.7/dist-packages (from requests->Historic-Crypto) (1.24.3)\n",
            "Requirement already satisfied: certifi>=2017.4.17 in /usr/local/lib/python3.7/dist-packages (from requests->Historic-Crypto) (2022.9.24)\n",
            "Requirement already satisfied: chardet<4,>=3.0.2 in /usr/local/lib/python3.7/dist-packages (from requests->Historic-Crypto) (3.0.4)\n",
            "Installing collected packages: Historic-Crypto\n",
            "Successfully installed Historic-Crypto-0.1.6\n"
          ]
        }
      ]
    },
    {
      "cell_type": "code",
      "source": [
        "root_path = \"/content/drive/MyDrive/ColabNotebooks/btc_ohlc_Oct_2015_to_Oct_2021.csv\"\n",
        "\n",
        "btc_historicals = pd.read_csv(root_path)\n",
        "#btc_input_df2 = pd.read_csv(btc_historicals)"
      ],
      "metadata": {
        "id": "HoHfoWf28Xsc"
      },
      "execution_count": 4,
      "outputs": []
    },
    {
      "cell_type": "code",
      "source": [
        "btc_historicals.tail()"
      ],
      "metadata": {
        "colab": {
          "base_uri": "https://localhost:8080/",
          "height": 204
        },
        "id": "Ud4Z6LsEcqzD",
        "outputId": "73095761-a47f-44d3-891f-70f8718511b1"
      },
      "execution_count": 6,
      "outputs": [
        {
          "output_type": "execute_result",
          "data": {
            "text/plain": [
              "                        time     low    high    open   close    volume\n",
              "3113271  2015-10-27 00:04:00  287.07  287.07  287.07  287.07   0.08610\n",
              "3113272  2015-10-27 00:03:00  287.08  287.09  287.08  287.09   0.55440\n",
              "3113273  2015-10-27 00:02:00  286.89  287.10  287.10  286.89  72.40320\n",
              "3113274  2015-10-27 00:01:00  287.09  287.09  287.09  287.09   0.82276\n",
              "3113275  2015-10-27 00:00:00  287.10  287.10  287.10  287.10   0.53620"
            ],
            "text/html": [
              "\n",
              "  <div id=\"df-ea4766e8-1e10-4272-97d6-079ccf5c058b\">\n",
              "    <div class=\"colab-df-container\">\n",
              "      <div>\n",
              "<style scoped>\n",
              "    .dataframe tbody tr th:only-of-type {\n",
              "        vertical-align: middle;\n",
              "    }\n",
              "\n",
              "    .dataframe tbody tr th {\n",
              "        vertical-align: top;\n",
              "    }\n",
              "\n",
              "    .dataframe thead th {\n",
              "        text-align: right;\n",
              "    }\n",
              "</style>\n",
              "<table border=\"1\" class=\"dataframe\">\n",
              "  <thead>\n",
              "    <tr style=\"text-align: right;\">\n",
              "      <th></th>\n",
              "      <th>time</th>\n",
              "      <th>low</th>\n",
              "      <th>high</th>\n",
              "      <th>open</th>\n",
              "      <th>close</th>\n",
              "      <th>volume</th>\n",
              "    </tr>\n",
              "  </thead>\n",
              "  <tbody>\n",
              "    <tr>\n",
              "      <th>3113271</th>\n",
              "      <td>2015-10-27 00:04:00</td>\n",
              "      <td>287.07</td>\n",
              "      <td>287.07</td>\n",
              "      <td>287.07</td>\n",
              "      <td>287.07</td>\n",
              "      <td>0.08610</td>\n",
              "    </tr>\n",
              "    <tr>\n",
              "      <th>3113272</th>\n",
              "      <td>2015-10-27 00:03:00</td>\n",
              "      <td>287.08</td>\n",
              "      <td>287.09</td>\n",
              "      <td>287.08</td>\n",
              "      <td>287.09</td>\n",
              "      <td>0.55440</td>\n",
              "    </tr>\n",
              "    <tr>\n",
              "      <th>3113273</th>\n",
              "      <td>2015-10-27 00:02:00</td>\n",
              "      <td>286.89</td>\n",
              "      <td>287.10</td>\n",
              "      <td>287.10</td>\n",
              "      <td>286.89</td>\n",
              "      <td>72.40320</td>\n",
              "    </tr>\n",
              "    <tr>\n",
              "      <th>3113274</th>\n",
              "      <td>2015-10-27 00:01:00</td>\n",
              "      <td>287.09</td>\n",
              "      <td>287.09</td>\n",
              "      <td>287.09</td>\n",
              "      <td>287.09</td>\n",
              "      <td>0.82276</td>\n",
              "    </tr>\n",
              "    <tr>\n",
              "      <th>3113275</th>\n",
              "      <td>2015-10-27 00:00:00</td>\n",
              "      <td>287.10</td>\n",
              "      <td>287.10</td>\n",
              "      <td>287.10</td>\n",
              "      <td>287.10</td>\n",
              "      <td>0.53620</td>\n",
              "    </tr>\n",
              "  </tbody>\n",
              "</table>\n",
              "</div>\n",
              "      <button class=\"colab-df-convert\" onclick=\"convertToInteractive('df-ea4766e8-1e10-4272-97d6-079ccf5c058b')\"\n",
              "              title=\"Convert this dataframe to an interactive table.\"\n",
              "              style=\"display:none;\">\n",
              "        \n",
              "  <svg xmlns=\"http://www.w3.org/2000/svg\" height=\"24px\"viewBox=\"0 0 24 24\"\n",
              "       width=\"24px\">\n",
              "    <path d=\"M0 0h24v24H0V0z\" fill=\"none\"/>\n",
              "    <path d=\"M18.56 5.44l.94 2.06.94-2.06 2.06-.94-2.06-.94-.94-2.06-.94 2.06-2.06.94zm-11 1L8.5 8.5l.94-2.06 2.06-.94-2.06-.94L8.5 2.5l-.94 2.06-2.06.94zm10 10l.94 2.06.94-2.06 2.06-.94-2.06-.94-.94-2.06-.94 2.06-2.06.94z\"/><path d=\"M17.41 7.96l-1.37-1.37c-.4-.4-.92-.59-1.43-.59-.52 0-1.04.2-1.43.59L10.3 9.45l-7.72 7.72c-.78.78-.78 2.05 0 2.83L4 21.41c.39.39.9.59 1.41.59.51 0 1.02-.2 1.41-.59l7.78-7.78 2.81-2.81c.8-.78.8-2.07 0-2.86zM5.41 20L4 18.59l7.72-7.72 1.47 1.35L5.41 20z\"/>\n",
              "  </svg>\n",
              "      </button>\n",
              "      \n",
              "  <style>\n",
              "    .colab-df-container {\n",
              "      display:flex;\n",
              "      flex-wrap:wrap;\n",
              "      gap: 12px;\n",
              "    }\n",
              "\n",
              "    .colab-df-convert {\n",
              "      background-color: #E8F0FE;\n",
              "      border: none;\n",
              "      border-radius: 50%;\n",
              "      cursor: pointer;\n",
              "      display: none;\n",
              "      fill: #1967D2;\n",
              "      height: 32px;\n",
              "      padding: 0 0 0 0;\n",
              "      width: 32px;\n",
              "    }\n",
              "\n",
              "    .colab-df-convert:hover {\n",
              "      background-color: #E2EBFA;\n",
              "      box-shadow: 0px 1px 2px rgba(60, 64, 67, 0.3), 0px 1px 3px 1px rgba(60, 64, 67, 0.15);\n",
              "      fill: #174EA6;\n",
              "    }\n",
              "\n",
              "    [theme=dark] .colab-df-convert {\n",
              "      background-color: #3B4455;\n",
              "      fill: #D2E3FC;\n",
              "    }\n",
              "\n",
              "    [theme=dark] .colab-df-convert:hover {\n",
              "      background-color: #434B5C;\n",
              "      box-shadow: 0px 1px 3px 1px rgba(0, 0, 0, 0.15);\n",
              "      filter: drop-shadow(0px 1px 2px rgba(0, 0, 0, 0.3));\n",
              "      fill: #FFFFFF;\n",
              "    }\n",
              "  </style>\n",
              "\n",
              "      <script>\n",
              "        const buttonEl =\n",
              "          document.querySelector('#df-ea4766e8-1e10-4272-97d6-079ccf5c058b button.colab-df-convert');\n",
              "        buttonEl.style.display =\n",
              "          google.colab.kernel.accessAllowed ? 'block' : 'none';\n",
              "\n",
              "        async function convertToInteractive(key) {\n",
              "          const element = document.querySelector('#df-ea4766e8-1e10-4272-97d6-079ccf5c058b');\n",
              "          const dataTable =\n",
              "            await google.colab.kernel.invokeFunction('convertToInteractive',\n",
              "                                                     [key], {});\n",
              "          if (!dataTable) return;\n",
              "\n",
              "          const docLinkHtml = 'Like what you see? Visit the ' +\n",
              "            '<a target=\"_blank\" href=https://colab.research.google.com/notebooks/data_table.ipynb>data table notebook</a>'\n",
              "            + ' to learn more about interactive tables.';\n",
              "          element.innerHTML = '';\n",
              "          dataTable['output_type'] = 'display_data';\n",
              "          await google.colab.output.renderOutput(dataTable, element);\n",
              "          const docLink = document.createElement('div');\n",
              "          docLink.innerHTML = docLinkHtml;\n",
              "          element.appendChild(docLink);\n",
              "        }\n",
              "      </script>\n",
              "    </div>\n",
              "  </div>\n",
              "  "
            ]
          },
          "metadata": {},
          "execution_count": 6
        }
      ]
    },
    {
      "cell_type": "code",
      "source": [
        "btc_historicals.info()"
      ],
      "metadata": {
        "colab": {
          "base_uri": "https://localhost:8080/"
        },
        "id": "-I-RhwIGEyEX",
        "outputId": "a34c90ac-1217-4447-df3e-c9039de60552"
      },
      "execution_count": 7,
      "outputs": [
        {
          "output_type": "stream",
          "name": "stdout",
          "text": [
            "<class 'pandas.core.frame.DataFrame'>\n",
            "RangeIndex: 3113276 entries, 0 to 3113275\n",
            "Data columns (total 6 columns):\n",
            " #   Column  Dtype  \n",
            "---  ------  -----  \n",
            " 0   time    object \n",
            " 1   low     float64\n",
            " 2   high    float64\n",
            " 3   open    float64\n",
            " 4   close   float64\n",
            " 5   volume  float64\n",
            "dtypes: float64(5), object(1)\n",
            "memory usage: 142.5+ MB\n"
          ]
        }
      ]
    },
    {
      "cell_type": "code",
      "source": [
        "btc_historicals['time'] = pd.to_datetime(btc_historicals['time'])"
      ],
      "metadata": {
        "id": "hBRy6VXSUUO6"
      },
      "execution_count": 8,
      "outputs": []
    },
    {
      "cell_type": "code",
      "source": [
        "btc_historicals.info()"
      ],
      "metadata": {
        "colab": {
          "base_uri": "https://localhost:8080/"
        },
        "id": "jh7yuLBaZYOe",
        "outputId": "ab61dd70-e81b-42b2-e9f6-0c346cfe05f4"
      },
      "execution_count": 9,
      "outputs": [
        {
          "output_type": "stream",
          "name": "stdout",
          "text": [
            "<class 'pandas.core.frame.DataFrame'>\n",
            "RangeIndex: 3113276 entries, 0 to 3113275\n",
            "Data columns (total 6 columns):\n",
            " #   Column  Dtype         \n",
            "---  ------  -----         \n",
            " 0   time    datetime64[ns]\n",
            " 1   low     float64       \n",
            " 2   high    float64       \n",
            " 3   open    float64       \n",
            " 4   close   float64       \n",
            " 5   volume  float64       \n",
            "dtypes: datetime64[ns](1), float64(5)\n",
            "memory usage: 142.5 MB\n"
          ]
        }
      ]
    },
    {
      "cell_type": "code",
      "source": [
        "print('Null Values:',btc_historicals.isnull().values.sum())\n",
        "print('If any NA values:', btc_historicals.isnull().values.any())"
      ],
      "metadata": {
        "colab": {
          "base_uri": "https://localhost:8080/"
        },
        "id": "BYeRN-wNxK--",
        "outputId": "f7230a65-a491-4fc5-e696-8cfa7e56ed14"
      },
      "execution_count": 10,
      "outputs": [
        {
          "output_type": "stream",
          "name": "stdout",
          "text": [
            "Null Values: 0\n",
            "If any NA values: False\n"
          ]
        }
      ]
    },
    {
      "cell_type": "code",
      "source": [
        "#btc_historicals_datetype = btc_historicals"
      ],
      "metadata": {
        "id": "pJv1TTLRxd1j"
      },
      "execution_count": null,
      "outputs": []
    },
    {
      "cell_type": "code",
      "source": [
        "btc_historicals['date'] = pd.to_datetime(btc_historicals['time'],unit='s').dt.date\n",
        "\n",
        "display(btc_historicals.head())\n",
        "\n",
        "group = btc_historicals.groupby('date')\n",
        "\n",
        "btc_closing_price_groupby_date = group['close'].mean()"
      ],
      "metadata": {
        "id": "XgrZI4nBzGL8",
        "colab": {
          "base_uri": "https://localhost:8080/",
          "height": 204
        },
        "outputId": "c63b6477-4df0-4a37-f411-ee355ccdbb03"
      },
      "execution_count": 14,
      "outputs": [
        {
          "output_type": "display_data",
          "data": {
            "text/plain": [
              "                 time       low      high      open     close    volume  \\\n",
              "0 2021-10-30 03:00:00  61868.81  61920.00  61888.18  61919.98  2.946079   \n",
              "1 2021-10-30 02:59:00  61882.74  61912.67  61903.16  61882.74  2.942357   \n",
              "2 2021-10-30 02:58:00  61854.82  61907.96  61854.82  61903.15  3.047848   \n",
              "3 2021-10-30 02:57:00  61848.04  61883.02  61883.01  61851.39  3.381070   \n",
              "4 2021-10-30 02:56:00  61879.33  61925.42  61907.47  61882.28  5.663128   \n",
              "\n",
              "         date  \n",
              "0  2021-10-30  \n",
              "1  2021-10-30  \n",
              "2  2021-10-30  \n",
              "3  2021-10-30  \n",
              "4  2021-10-30  "
            ],
            "text/html": [
              "\n",
              "  <div id=\"df-dd948b40-7465-41bb-99de-5f257ceb71eb\">\n",
              "    <div class=\"colab-df-container\">\n",
              "      <div>\n",
              "<style scoped>\n",
              "    .dataframe tbody tr th:only-of-type {\n",
              "        vertical-align: middle;\n",
              "    }\n",
              "\n",
              "    .dataframe tbody tr th {\n",
              "        vertical-align: top;\n",
              "    }\n",
              "\n",
              "    .dataframe thead th {\n",
              "        text-align: right;\n",
              "    }\n",
              "</style>\n",
              "<table border=\"1\" class=\"dataframe\">\n",
              "  <thead>\n",
              "    <tr style=\"text-align: right;\">\n",
              "      <th></th>\n",
              "      <th>time</th>\n",
              "      <th>low</th>\n",
              "      <th>high</th>\n",
              "      <th>open</th>\n",
              "      <th>close</th>\n",
              "      <th>volume</th>\n",
              "      <th>date</th>\n",
              "    </tr>\n",
              "  </thead>\n",
              "  <tbody>\n",
              "    <tr>\n",
              "      <th>0</th>\n",
              "      <td>2021-10-30 03:00:00</td>\n",
              "      <td>61868.81</td>\n",
              "      <td>61920.00</td>\n",
              "      <td>61888.18</td>\n",
              "      <td>61919.98</td>\n",
              "      <td>2.946079</td>\n",
              "      <td>2021-10-30</td>\n",
              "    </tr>\n",
              "    <tr>\n",
              "      <th>1</th>\n",
              "      <td>2021-10-30 02:59:00</td>\n",
              "      <td>61882.74</td>\n",
              "      <td>61912.67</td>\n",
              "      <td>61903.16</td>\n",
              "      <td>61882.74</td>\n",
              "      <td>2.942357</td>\n",
              "      <td>2021-10-30</td>\n",
              "    </tr>\n",
              "    <tr>\n",
              "      <th>2</th>\n",
              "      <td>2021-10-30 02:58:00</td>\n",
              "      <td>61854.82</td>\n",
              "      <td>61907.96</td>\n",
              "      <td>61854.82</td>\n",
              "      <td>61903.15</td>\n",
              "      <td>3.047848</td>\n",
              "      <td>2021-10-30</td>\n",
              "    </tr>\n",
              "    <tr>\n",
              "      <th>3</th>\n",
              "      <td>2021-10-30 02:57:00</td>\n",
              "      <td>61848.04</td>\n",
              "      <td>61883.02</td>\n",
              "      <td>61883.01</td>\n",
              "      <td>61851.39</td>\n",
              "      <td>3.381070</td>\n",
              "      <td>2021-10-30</td>\n",
              "    </tr>\n",
              "    <tr>\n",
              "      <th>4</th>\n",
              "      <td>2021-10-30 02:56:00</td>\n",
              "      <td>61879.33</td>\n",
              "      <td>61925.42</td>\n",
              "      <td>61907.47</td>\n",
              "      <td>61882.28</td>\n",
              "      <td>5.663128</td>\n",
              "      <td>2021-10-30</td>\n",
              "    </tr>\n",
              "  </tbody>\n",
              "</table>\n",
              "</div>\n",
              "      <button class=\"colab-df-convert\" onclick=\"convertToInteractive('df-dd948b40-7465-41bb-99de-5f257ceb71eb')\"\n",
              "              title=\"Convert this dataframe to an interactive table.\"\n",
              "              style=\"display:none;\">\n",
              "        \n",
              "  <svg xmlns=\"http://www.w3.org/2000/svg\" height=\"24px\"viewBox=\"0 0 24 24\"\n",
              "       width=\"24px\">\n",
              "    <path d=\"M0 0h24v24H0V0z\" fill=\"none\"/>\n",
              "    <path d=\"M18.56 5.44l.94 2.06.94-2.06 2.06-.94-2.06-.94-.94-2.06-.94 2.06-2.06.94zm-11 1L8.5 8.5l.94-2.06 2.06-.94-2.06-.94L8.5 2.5l-.94 2.06-2.06.94zm10 10l.94 2.06.94-2.06 2.06-.94-2.06-.94-.94-2.06-.94 2.06-2.06.94z\"/><path d=\"M17.41 7.96l-1.37-1.37c-.4-.4-.92-.59-1.43-.59-.52 0-1.04.2-1.43.59L10.3 9.45l-7.72 7.72c-.78.78-.78 2.05 0 2.83L4 21.41c.39.39.9.59 1.41.59.51 0 1.02-.2 1.41-.59l7.78-7.78 2.81-2.81c.8-.78.8-2.07 0-2.86zM5.41 20L4 18.59l7.72-7.72 1.47 1.35L5.41 20z\"/>\n",
              "  </svg>\n",
              "      </button>\n",
              "      \n",
              "  <style>\n",
              "    .colab-df-container {\n",
              "      display:flex;\n",
              "      flex-wrap:wrap;\n",
              "      gap: 12px;\n",
              "    }\n",
              "\n",
              "    .colab-df-convert {\n",
              "      background-color: #E8F0FE;\n",
              "      border: none;\n",
              "      border-radius: 50%;\n",
              "      cursor: pointer;\n",
              "      display: none;\n",
              "      fill: #1967D2;\n",
              "      height: 32px;\n",
              "      padding: 0 0 0 0;\n",
              "      width: 32px;\n",
              "    }\n",
              "\n",
              "    .colab-df-convert:hover {\n",
              "      background-color: #E2EBFA;\n",
              "      box-shadow: 0px 1px 2px rgba(60, 64, 67, 0.3), 0px 1px 3px 1px rgba(60, 64, 67, 0.15);\n",
              "      fill: #174EA6;\n",
              "    }\n",
              "\n",
              "    [theme=dark] .colab-df-convert {\n",
              "      background-color: #3B4455;\n",
              "      fill: #D2E3FC;\n",
              "    }\n",
              "\n",
              "    [theme=dark] .colab-df-convert:hover {\n",
              "      background-color: #434B5C;\n",
              "      box-shadow: 0px 1px 3px 1px rgba(0, 0, 0, 0.15);\n",
              "      filter: drop-shadow(0px 1px 2px rgba(0, 0, 0, 0.3));\n",
              "      fill: #FFFFFF;\n",
              "    }\n",
              "  </style>\n",
              "\n",
              "      <script>\n",
              "        const buttonEl =\n",
              "          document.querySelector('#df-dd948b40-7465-41bb-99de-5f257ceb71eb button.colab-df-convert');\n",
              "        buttonEl.style.display =\n",
              "          google.colab.kernel.accessAllowed ? 'block' : 'none';\n",
              "\n",
              "        async function convertToInteractive(key) {\n",
              "          const element = document.querySelector('#df-dd948b40-7465-41bb-99de-5f257ceb71eb');\n",
              "          const dataTable =\n",
              "            await google.colab.kernel.invokeFunction('convertToInteractive',\n",
              "                                                     [key], {});\n",
              "          if (!dataTable) return;\n",
              "\n",
              "          const docLinkHtml = 'Like what you see? Visit the ' +\n",
              "            '<a target=\"_blank\" href=https://colab.research.google.com/notebooks/data_table.ipynb>data table notebook</a>'\n",
              "            + ' to learn more about interactive tables.';\n",
              "          element.innerHTML = '';\n",
              "          dataTable['output_type'] = 'display_data';\n",
              "          await google.colab.output.renderOutput(dataTable, element);\n",
              "          const docLink = document.createElement('div');\n",
              "          docLink.innerHTML = docLinkHtml;\n",
              "          element.appendChild(docLink);\n",
              "        }\n",
              "      </script>\n",
              "    </div>\n",
              "  </div>\n",
              "  "
            ]
          },
          "metadata": {}
        }
      ]
    },
    {
      "cell_type": "code",
      "source": [
        "#btc_historicals_datetype = btc_historicals_datetype['close']"
      ],
      "metadata": {
        "id": "Rm_gbo-GzYoA"
      },
      "execution_count": null,
      "outputs": []
    },
    {
      "cell_type": "code",
      "source": [
        "#btc_historicals_datetype = btc_historicals_datetype.drop(\"mean\", axis = 1)"
      ],
      "metadata": {
        "id": "V-D-OVoZjAIF"
      },
      "execution_count": null,
      "outputs": []
    },
    {
      "cell_type": "code",
      "source": [
        "#btc_historicals_datetype['mean'] = btc_historicals_datetype.mean(axis=1)"
      ],
      "metadata": {
        "id": "QfwoKxysi0rU"
      },
      "execution_count": null,
      "outputs": []
    },
    {
      "cell_type": "code",
      "source": [
        "len(btc_closing_price_groupby_date)"
      ],
      "metadata": {
        "colab": {
          "base_uri": "https://localhost:8080/"
        },
        "id": "rZQpcyIOl6px",
        "outputId": "fbc2d5f1-2803-46c3-cdf4-b59a7df5fd3b"
      },
      "execution_count": 16,
      "outputs": [
        {
          "output_type": "execute_result",
          "data": {
            "text/plain": [
              "2196"
            ]
          },
          "metadata": {},
          "execution_count": 16
        }
      ]
    },
    {
      "cell_type": "code",
      "source": [
        "prediction_days = 60\n",
        "\n",
        "# Set Train data to be uplo ( Total data length - prediction_days )\n",
        "df_train= btc_closing_price_groupby_date[:len(btc_closing_price_groupby_date)-prediction_days].values.reshape(-1,1)\n",
        "\n",
        "\n",
        "# Set Test data to be the last prediction_days (or 60 days in this case)\n",
        "df_test= btc_closing_price_groupby_date[len(btc_closing_price_groupby_date)-prediction_days:].values.reshape(-1,1)"
      ],
      "metadata": {
        "id": "QLIQ70XizzuV"
      },
      "execution_count": 17,
      "outputs": []
    },
    {
      "cell_type": "code",
      "source": [
        "df_train.shape"
      ],
      "metadata": {
        "colab": {
          "base_uri": "https://localhost:8080/"
        },
        "id": "sUElJtyi0D5Y",
        "outputId": "10bb8cde-0a23-463e-f699-1bc3a6c1d572"
      },
      "execution_count": 18,
      "outputs": [
        {
          "output_type": "execute_result",
          "data": {
            "text/plain": [
              "(2136, 1)"
            ]
          },
          "metadata": {},
          "execution_count": 18
        }
      ]
    },
    {
      "cell_type": "code",
      "source": [
        "df_test.shape"
      ],
      "metadata": {
        "colab": {
          "base_uri": "https://localhost:8080/"
        },
        "id": "E7nhdNd90JSG",
        "outputId": "af197e3d-be4d-4266-b82f-6e47dc251502"
      },
      "execution_count": 19,
      "outputs": [
        {
          "output_type": "execute_result",
          "data": {
            "text/plain": [
              "(60, 1)"
            ]
          },
          "metadata": {},
          "execution_count": 19
        }
      ]
    },
    {
      "cell_type": "code",
      "source": [
        "fig, ax = plt.subplots(1, figsize=(13, 7))\n",
        "ax.plot(df_train, label='Train', linewidth=2)\n",
        "ax.set_ylabel('Price USD', fontsize=14)\n",
        "ax.set_title('', fontsize=16)\n",
        "ax.legend(loc='best', fontsize=16)"
      ],
      "metadata": {
        "colab": {
          "base_uri": "https://localhost:8080/",
          "height": 442
        },
        "id": "IyGIlqPH0hlW",
        "outputId": "3e39ca22-0523-4d86-e9a2-d303d8c4458f"
      },
      "execution_count": 20,
      "outputs": [
        {
          "output_type": "execute_result",
          "data": {
            "text/plain": [
              "<matplotlib.legend.Legend at 0x7fa13ff3acd0>"
            ]
          },
          "metadata": {},
          "execution_count": 20
        },
        {
          "output_type": "display_data",
          "data": {
            "text/plain": [
              "<Figure size 936x504 with 1 Axes>"
            ],
            "image/png": "[encoded data removed]"
          },
          "metadata": {}
        }
      ]
    },
    {
      "cell_type": "code",
      "source": [
        "scaler_train = MinMaxScaler(feature_range=(0, 1))\n",
        "scaled_train = scaler_train.fit_transform(df_train)\n",
        "\n",
        "scaler_test = MinMaxScaler(feature_range=(0, 1))\n",
        "scaled_test = scaler_test.fit_transform(df_test)"
      ],
      "metadata": {
        "id": "J9ibaxAt06dh"
      },
      "execution_count": 21,
      "outputs": []
    },
    {
      "cell_type": "code",
      "source": [
        "scaled_test"
      ],
      "metadata": {
        "colab": {
          "base_uri": "https://localhost:8080/"
        },
        "id": "gT8OuGcb1DAp",
        "outputId": "fee32647-2523-4b37-8800-5c8dc180a1e6"
      },
      "execution_count": 22,
      "outputs": [
        {
          "output_type": "execute_result",
          "data": {
            "text/plain": [
              "array([[0.25321869],\n",
              "       [0.33878686],\n",
              "       [0.34931688],\n",
              "       [0.35652903],\n",
              "       [0.36882444],\n",
              "       [0.43055223],\n",
              "       [0.35190522],\n",
              "       [0.19320919],\n",
              "       [0.19855227],\n",
              "       [0.17701621],\n",
              "       [0.15325192],\n",
              "       [0.16480254],\n",
              "       [0.12865804],\n",
              "       [0.18263966],\n",
              "       [0.24906473],\n",
              "       [0.26251689],\n",
              "       [0.24876467],\n",
              "       [0.27712791],\n",
              "       [0.25529524],\n",
              "       [0.12094002],\n",
              "       [0.02665216],\n",
              "       [0.03215063],\n",
              "       [0.09826223],\n",
              "       [0.05653365],\n",
              "       [0.03321796],\n",
              "       [0.04218533],\n",
              "       [0.07336325],\n",
              "       [0.004752  ],\n",
              "       [0.        ],\n",
              "       [0.06214595],\n",
              "       [0.18340176],\n",
              "       [0.26015549],\n",
              "       [0.26810129],\n",
              "       [0.27380695],\n",
              "       [0.35673344],\n",
              "       [0.47981766],\n",
              "       [0.54177128],\n",
              "       [0.5459711 ],\n",
              "       [0.55826613],\n",
              "       [0.5765067 ],\n",
              "       [0.64334068],\n",
              "       [0.63971782],\n",
              "       [0.61481564],\n",
              "       [0.68357564],\n",
              "       [0.78050369],\n",
              "       [0.8405857 ],\n",
              "       [0.82202495],\n",
              "       [0.86299335],\n",
              "       [0.90375255],\n",
              "       [1.        ],\n",
              "       [0.97247556],\n",
              "       [0.87962325],\n",
              "       [0.83248555],\n",
              "       [0.81613368],\n",
              "       [0.89829139],\n",
              "       [0.88503214],\n",
              "       [0.76423277],\n",
              "       [0.7963598 ],\n",
              "       [0.85391712],\n",
              "       [0.87320656]])"
            ]
          },
          "metadata": {},
          "execution_count": 22
        }
      ]
    },
    {
      "cell_type": "code",
      "source": [
        "def dataset_generator_lstm(dataset, look_back=5):\n",
        "    # A “lookback period” defines the window-size of how many\n",
        "    # previous timesteps are used in order to predict\n",
        "    # the subsequent timestep. \n",
        "    dataX, dataY = [], []\n",
        "    \n",
        "    for i in range(len(dataset) - look_back):\n",
        "        window_size_x = dataset[i:(i + look_back), 0]\n",
        "        dataX.append(window_size_x)\n",
        "        dataY.append(dataset[i + look_back, 0]) # this is the label or actual y-value\n",
        "    return np.array(dataX), np.array(dataY)\n",
        "\n",
        "trainX, trainY = dataset_generator_lstm(scaled_train)\n",
        "\n",
        "testX, testY = dataset_generator_lstm(scaled_test)\n",
        "\n",
        "print(\"trainX: \", trainX.shape)\n",
        "print(\"trainY: \", trainY.shape)\n",
        "print(\"testX: \", testX.shape)\n",
        "print(\"testY\", testY.shape)"
      ],
      "metadata": {
        "colab": {
          "base_uri": "https://localhost:8080/"
        },
        "id": "emamrdEL1TxB",
        "outputId": "0a7f595b-4297-42dd-9a49-072dcecec558"
      },
      "execution_count": 23,
      "outputs": [
        {
          "output_type": "stream",
          "name": "stdout",
          "text": [
            "trainX:  (2131, 5)\n",
            "trainY:  (2131,)\n",
            "testX:  (55, 5)\n",
            "testY (55,)\n"
          ]
        }
      ]
    },
    {
      "cell_type": "code",
      "source": [
        "trainX = np.reshape(trainX, (trainX.shape[0], trainX.shape[1], 1))\n",
        "\n",
        "testX = np.reshape(testX, (testX.shape[0], testX.shape[1], 1 ))\n",
        "\n",
        "print(\"Shape of trainX: \", trainX.shape)\n",
        "print(\"Shape of testX: \", testX.shape)"
      ],
      "metadata": {
        "colab": {
          "base_uri": "https://localhost:8080/"
        },
        "id": "4HZHQ0bc5BG3",
        "outputId": "2158269c-c30e-440c-cf43-238721a2fc0a"
      },
      "execution_count": 24,
      "outputs": [
        {
          "output_type": "stream",
          "name": "stdout",
          "text": [
            "Shape of trainX:  (2131, 5, 1)\n",
            "Shape of testX:  (55, 5, 1)\n"
          ]
        }
      ]
    },
    {
      "cell_type": "code",
      "source": [
        "trainX"
      ],
      "metadata": {
        "colab": {
          "base_uri": "https://localhost:8080/"
        },
        "id": "4mcDDTkY76A6",
        "outputId": "dcd7954d-23c3-4e3b-bb6e-04ab39327297"
      },
      "execution_count": null,
      "outputs": [
        {
          "output_type": "execute_result",
          "data": {
            "text/plain": [
              "array([[[0.00289836],\n",
              "        [0.00290087],\n",
              "        [0.00290087],\n",
              "        ...,\n",
              "        [0.0029222 ],\n",
              "        [0.00289083],\n",
              "        [0.00287912]],\n",
              "\n",
              "       [[0.00290087],\n",
              "        [0.00290087],\n",
              "        [0.00290087],\n",
              "        ...,\n",
              "        [0.00289083],\n",
              "        [0.00287912],\n",
              "        [0.00287577]],\n",
              "\n",
              "       [[0.00290087],\n",
              "        [0.00290087],\n",
              "        [0.0029222 ],\n",
              "        ...,\n",
              "        [0.00287912],\n",
              "        [0.00287577],\n",
              "        [0.00286657]],\n",
              "\n",
              "       ...,\n",
              "\n",
              "       [[0.98193724],\n",
              "        [0.98636697],\n",
              "        [0.98556385],\n",
              "        ...,\n",
              "        [0.92993038],\n",
              "        [0.93281953],\n",
              "        [0.93895883]],\n",
              "\n",
              "       [[0.98636697],\n",
              "        [0.98556385],\n",
              "        [0.98726296],\n",
              "        ...,\n",
              "        [0.93281953],\n",
              "        [0.93895883],\n",
              "        [0.93768219]],\n",
              "\n",
              "       [[0.98556385],\n",
              "        [0.98726296],\n",
              "        [0.98806232],\n",
              "        ...,\n",
              "        [0.93895883],\n",
              "        [0.93768219],\n",
              "        [0.93644279]]])"
            ]
          },
          "metadata": {},
          "execution_count": 23
        }
      ]
    },
    {
      "cell_type": "code",
      "source": [
        "regressor = Sequential()\n",
        "\n",
        "# Adding the first LSTM layer and some Dropout regularisation\n",
        "# You must set return_sequences=True when stacking LSTM layers so that the second LSTM layer\n",
        "# has a compatible n-dimensional sequence input.\n",
        "# This hyper parameter should be set to False (which is the default value) for the last layer\n",
        "# and true for the other previous layers.\n",
        "\n",
        "regressor.add(LSTM(units = 128, activation = 'relu',return_sequences=True, input_shape = (trainX.shape[1], trainX.shape[2])))\n",
        "regressor.add(Dropout(0.2))\n",
        "\n",
        "# Adding a second LSTM layer and some Dropout regularisation\n",
        "regressor.add(LSTM(units = 64, input_shape = (trainX.shape[1], trainX.shape[2])))\n",
        "# regressor.add(LSTM(units = 64, return_sequences = True, input_shape = (trainX.shape[1], trainX.shape[2])))\n",
        "regressor.add(Dropout(0.2))\n",
        "# Note - If I plan to add 3-rd or 4-th layers of LSTM then \n",
        "# I must set return_sequences=True in the 2-nd layer above\n",
        "# so that the 3-rd LSTM layer has a compatible n-dimensional sequence input.\n",
        "\n",
        "\n",
        "# Adding a third LSTM layer and some Dropout regularisation\n",
        "# regressor.add(LSTM(units = 64, return_sequences = True, input_shape = (trainX.shape[1], trainX.shape[2])))\n",
        "# regressor.add(Dropout(0.2))\n",
        "\n",
        "\n",
        "# Adding a fourth LSTM layer and some Dropout regularisation\n",
        "# regressor.add(LSTM(units = 64, input_shape = (trainX.shape[1], trainX.shape[2])))\n",
        "# regressor.add(Dropout(0.2))\n",
        "\n",
        "\n",
        "# Adding the output layer\n",
        "regressor.add(Dense(units = 1))\n",
        "\n",
        "regressor.summary()"
      ],
      "metadata": {
        "colab": {
          "base_uri": "https://localhost:8080/"
        },
        "id": "zxkLyvSG9M_a",
        "outputId": "ddf5fd90-bc3f-494a-e618-b09a3565ecdc"
      },
      "execution_count": 25,
      "outputs": [
        {
          "output_type": "stream",
          "name": "stderr",
          "text": [
            "WARNING:tensorflow:Layer lstm will not use cuDNN kernels since it doesn't meet the criteria. It will use a generic GPU kernel as fallback when running on GPU.\n"
          ]
        },
        {
          "output_type": "stream",
          "name": "stdout",
          "text": [
            "Model: \"sequential\"\n",
            "_________________________________________________________________\n",
            " Layer (type)                Output Shape              Param #   \n",
            "=================================================================\n",
            " lstm (LSTM)                 (None, 5, 128)            66560     \n",
            "                                                                 \n",
            " dropout (Dropout)           (None, 5, 128)            0         \n",
            "                                                                 \n",
            " lstm_1 (LSTM)               (None, 64)                49408     \n",
            "                                                                 \n",
            " dropout_1 (Dropout)         (None, 64)                0         \n",
            "                                                                 \n",
            " dense (Dense)               (None, 1)                 65        \n",
            "                                                                 \n",
            "=================================================================\n",
            "Total params: 116,033\n",
            "Trainable params: 116,033\n",
            "Non-trainable params: 0\n",
            "_________________________________________________________________\n"
          ]
        }
      ]
    },
    {
      "cell_type": "code",
      "source": [
        "from tensorflow.keras.callbacks import ModelCheckpoint, EarlyStopping\n",
        "\n",
        "# Compiling the LSTM\n",
        "regressor.compile(optimizer = 'adam', loss = 'mean_squared_error')\n",
        "\n",
        "checkpoint_path = 'my_best_model.hdf5'\n",
        "\n",
        "checkpoint = ModelCheckpoint(filepath=checkpoint_path, \n",
        "                             monitor='val_loss',\n",
        "                             verbose=1, \n",
        "                             save_best_only=True,\n",
        "                             mode='min')\n",
        "\n",
        "\n",
        "earlystopping = EarlyStopping(monitor='val_loss', patience=10, restore_best_weights=True)\n",
        "\n",
        "callbacks = [checkpoint, earlystopping]\n",
        "# callbacks = [checkpoint]\n",
        "\n",
        "\n",
        "history = regressor.fit(trainX, trainY, batch_size = 32, epochs = 300, verbose=1, shuffle=False, validation_data=(testX, testY), callbacks=callbacks)"
      ],
      "metadata": {
        "colab": {
          "base_uri": "https://localhost:8080/"
        },
        "id": "QieIc1eB9zK7",
        "outputId": "de09efd5-f9cf-4482-8116-afa8385d5cb8"
      },
      "execution_count": 27,
      "outputs": [
        {
          "output_type": "stream",
          "name": "stdout",
          "text": [
            "Epoch 1/300\n",
            "63/67 [===========================>..] - ETA: 0s - loss: 5.6238e-04\n",
            "Epoch 1: val_loss improved from inf to 0.01088, saving model to my_best_model.hdf5\n",
            "67/67 [==============================] - 4s 22ms/step - loss: 8.1579e-04 - val_loss: 0.0109\n",
            "Epoch 2/300\n",
            "63/67 [===========================>..] - ETA: 0s - loss: 0.0018    \n",
            "Epoch 2: val_loss did not improve from 0.01088\n",
            "67/67 [==============================] - 1s 14ms/step - loss: 0.0023 - val_loss: 0.0166\n",
            "Epoch 3/300\n",
            "66/67 [============================>.] - ETA: 0s - loss: 0.0012\n",
            "Epoch 3: val_loss improved from 0.01088 to 0.00859, saving model to my_best_model.hdf5\n",
            "67/67 [==============================] - 1s 14ms/step - loss: 0.0012 - val_loss: 0.0086\n",
            "Epoch 4/300\n",
            "66/67 [============================>.] - ETA: 0s - loss: 5.6753e-04\n",
            "Epoch 4: val_loss improved from 0.00859 to 0.00850, saving model to my_best_model.hdf5\n",
            "67/67 [==============================] - 1s 15ms/step - loss: 6.0085e-04 - val_loss: 0.0085\n",
            "Epoch 5/300\n",
            "67/67 [==============================] - ETA: 0s - loss: 6.1731e-04\n",
            "Epoch 5: val_loss did not improve from 0.00850\n",
            "67/67 [==============================] - 1s 14ms/step - loss: 6.1731e-04 - val_loss: 0.0087\n",
            "Epoch 6/300\n",
            "67/67 [==============================] - ETA: 0s - loss: 8.5100e-04\n",
            "Epoch 6: val_loss did not improve from 0.00850\n",
            "67/67 [==============================] - 1s 14ms/step - loss: 8.5100e-04 - val_loss: 0.0085\n",
            "Epoch 7/300\n",
            "64/67 [===========================>..] - ETA: 0s - loss: 7.0540e-04\n",
            "Epoch 7: val_loss did not improve from 0.00850\n",
            "67/67 [==============================] - 1s 13ms/step - loss: 9.2373e-04 - val_loss: 0.0086\n",
            "Epoch 8/300\n",
            "64/67 [===========================>..] - ETA: 0s - loss: 9.7935e-04\n",
            "Epoch 8: val_loss did not improve from 0.00850\n",
            "67/67 [==============================] - 1s 14ms/step - loss: 0.0013 - val_loss: 0.0107\n",
            "Epoch 9/300\n",
            "66/67 [============================>.] - ETA: 0s - loss: 9.8847e-04\n",
            "Epoch 9: val_loss did not improve from 0.00850\n",
            "67/67 [==============================] - 1s 14ms/step - loss: 0.0011 - val_loss: 0.0095\n",
            "Epoch 10/300\n",
            "64/67 [===========================>..] - ETA: 0s - loss: 7.9573e-04\n",
            "Epoch 10: val_loss improved from 0.00850 to 0.00825, saving model to my_best_model.hdf5\n",
            "67/67 [==============================] - 1s 14ms/step - loss: 9.2453e-04 - val_loss: 0.0083\n",
            "Epoch 11/300\n",
            "66/67 [============================>.] - ETA: 0s - loss: 7.4077e-04\n",
            "Epoch 11: val_loss improved from 0.00825 to 0.00816, saving model to my_best_model.hdf5\n",
            "67/67 [==============================] - 1s 14ms/step - loss: 7.7934e-04 - val_loss: 0.0082\n",
            "Epoch 12/300\n",
            "65/67 [============================>.] - ETA: 0s - loss: 7.4608e-04\n",
            "Epoch 12: val_loss did not improve from 0.00816\n",
            "67/67 [==============================] - 1s 14ms/step - loss: 8.8139e-04 - val_loss: 0.0087\n",
            "Epoch 13/300\n",
            "64/67 [===========================>..] - ETA: 0s - loss: 7.2048e-04\n",
            "Epoch 13: val_loss did not improve from 0.00816\n",
            "67/67 [==============================] - 1s 14ms/step - loss: 9.0228e-04 - val_loss: 0.0086\n",
            "Epoch 14/300\n",
            "66/67 [============================>.] - ETA: 0s - loss: 8.6168e-04\n",
            "Epoch 14: val_loss improved from 0.00816 to 0.00815, saving model to my_best_model.hdf5\n",
            "67/67 [==============================] - 1s 14ms/step - loss: 9.1418e-04 - val_loss: 0.0081\n",
            "Epoch 15/300\n",
            "67/67 [==============================] - ETA: 0s - loss: 9.4672e-04\n",
            "Epoch 15: val_loss did not improve from 0.00815\n",
            "67/67 [==============================] - 1s 14ms/step - loss: 9.4672e-04 - val_loss: 0.0087\n",
            "Epoch 16/300\n",
            "64/67 [===========================>..] - ETA: 0s - loss: 7.2758e-04\n",
            "Epoch 16: val_loss improved from 0.00815 to 0.00808, saving model to my_best_model.hdf5\n",
            "67/67 [==============================] - 1s 15ms/step - loss: 8.7410e-04 - val_loss: 0.0081\n",
            "Epoch 17/300\n",
            "64/67 [===========================>..] - ETA: 0s - loss: 5.7554e-04\n",
            "Epoch 17: val_loss improved from 0.00808 to 0.00807, saving model to my_best_model.hdf5\n",
            "67/67 [==============================] - 1s 15ms/step - loss: 6.9806e-04 - val_loss: 0.0081\n",
            "Epoch 18/300\n",
            "67/67 [==============================] - ETA: 0s - loss: 6.6963e-04\n",
            "Epoch 18: val_loss improved from 0.00807 to 0.00788, saving model to my_best_model.hdf5\n",
            "67/67 [==============================] - 1s 14ms/step - loss: 6.6963e-04 - val_loss: 0.0079\n",
            "Epoch 19/300\n",
            "65/67 [============================>.] - ETA: 0s - loss: 6.1061e-04\n",
            "Epoch 19: val_loss did not improve from 0.00788\n",
            "67/67 [==============================] - 1s 14ms/step - loss: 6.8446e-04 - val_loss: 0.0080\n",
            "Epoch 20/300\n",
            "67/67 [==============================] - ETA: 0s - loss: 9.9503e-04\n",
            "Epoch 20: val_loss did not improve from 0.00788\n",
            "67/67 [==============================] - 1s 13ms/step - loss: 9.9503e-04 - val_loss: 0.0083\n",
            "Epoch 21/300\n",
            "65/67 [============================>.] - ETA: 0s - loss: 0.0012    \n",
            "Epoch 21: val_loss did not improve from 0.00788\n",
            "67/67 [==============================] - 1s 14ms/step - loss: 0.0015 - val_loss: 0.0096\n",
            "Epoch 22/300\n",
            "67/67 [==============================] - ETA: 0s - loss: 0.0014\n",
            "Epoch 22: val_loss did not improve from 0.00788\n",
            "67/67 [==============================] - 1s 14ms/step - loss: 0.0014 - val_loss: 0.0110\n",
            "Epoch 23/300\n",
            "65/67 [============================>.] - ETA: 0s - loss: 8.2191e-04\n",
            "Epoch 23: val_loss did not improve from 0.00788\n",
            "67/67 [==============================] - 1s 13ms/step - loss: 8.9529e-04 - val_loss: 0.0081\n",
            "Epoch 24/300\n",
            "65/67 [============================>.] - ETA: 0s - loss: 6.3826e-04\n",
            "Epoch 24: val_loss did not improve from 0.00788\n",
            "67/67 [==============================] - 1s 14ms/step - loss: 6.6810e-04 - val_loss: 0.0079\n",
            "Epoch 25/300\n",
            "67/67 [==============================] - ETA: 0s - loss: 6.1126e-04\n",
            "Epoch 25: val_loss improved from 0.00788 to 0.00782, saving model to my_best_model.hdf5\n",
            "67/67 [==============================] - 1s 14ms/step - loss: 6.1126e-04 - val_loss: 0.0078\n",
            "Epoch 26/300\n",
            "66/67 [============================>.] - ETA: 0s - loss: 6.5982e-04\n",
            "Epoch 26: val_loss improved from 0.00782 to 0.00776, saving model to my_best_model.hdf5\n",
            "67/67 [==============================] - 1s 14ms/step - loss: 6.8278e-04 - val_loss: 0.0078\n",
            "Epoch 27/300\n",
            "64/67 [===========================>..] - ETA: 0s - loss: 4.6048e-04\n",
            "Epoch 27: val_loss did not improve from 0.00776\n",
            "67/67 [==============================] - 1s 14ms/step - loss: 5.2295e-04 - val_loss: 0.0078\n",
            "Epoch 28/300\n",
            "65/67 [============================>.] - ETA: 0s - loss: 5.6851e-04\n",
            "Epoch 28: val_loss improved from 0.00776 to 0.00768, saving model to my_best_model.hdf5\n",
            "67/67 [==============================] - 1s 14ms/step - loss: 6.2639e-04 - val_loss: 0.0077\n",
            "Epoch 29/300\n",
            "65/67 [============================>.] - ETA: 0s - loss: 5.9760e-04\n",
            "Epoch 29: val_loss did not improve from 0.00768\n",
            "67/67 [==============================] - 1s 14ms/step - loss: 6.8419e-04 - val_loss: 0.0077\n",
            "Epoch 30/300\n",
            "66/67 [============================>.] - ETA: 0s - loss: 6.8836e-04\n",
            "Epoch 30: val_loss did not improve from 0.00768\n",
            "67/67 [==============================] - 1s 14ms/step - loss: 7.4331e-04 - val_loss: 0.0077\n",
            "Epoch 31/300\n",
            "64/67 [===========================>..] - ETA: 0s - loss: 7.4021e-04\n",
            "Epoch 31: val_loss did not improve from 0.00768\n",
            "67/67 [==============================] - 1s 13ms/step - loss: 9.3145e-04 - val_loss: 0.0084\n",
            "Epoch 32/300\n",
            "67/67 [==============================] - ETA: 0s - loss: 8.9524e-04\n",
            "Epoch 32: val_loss did not improve from 0.00768\n",
            "67/67 [==============================] - 1s 14ms/step - loss: 8.9524e-04 - val_loss: 0.0077\n",
            "Epoch 33/300\n",
            "66/67 [============================>.] - ETA: 0s - loss: 7.3802e-04\n",
            "Epoch 33: val_loss did not improve from 0.00768\n",
            "67/67 [==============================] - 1s 14ms/step - loss: 7.9442e-04 - val_loss: 0.0078\n",
            "Epoch 34/300\n",
            "64/67 [===========================>..] - ETA: 0s - loss: 6.1357e-04\n",
            "Epoch 34: val_loss improved from 0.00768 to 0.00746, saving model to my_best_model.hdf5\n",
            "67/67 [==============================] - 1s 14ms/step - loss: 7.3558e-04 - val_loss: 0.0075\n",
            "Epoch 35/300\n",
            "67/67 [==============================] - ETA: 0s - loss: 7.6726e-04\n",
            "Epoch 35: val_loss did not improve from 0.00746\n",
            "67/67 [==============================] - 1s 13ms/step - loss: 7.6726e-04 - val_loss: 0.0081\n",
            "Epoch 36/300\n",
            "64/67 [===========================>..] - ETA: 0s - loss: 6.4596e-04\n",
            "Epoch 36: val_loss did not improve from 0.00746\n",
            "67/67 [==============================] - 1s 14ms/step - loss: 7.5869e-04 - val_loss: 0.0075\n",
            "Epoch 37/300\n",
            "65/67 [============================>.] - ETA: 0s - loss: 6.5964e-04\n",
            "Epoch 37: val_loss did not improve from 0.00746\n",
            "67/67 [==============================] - 1s 14ms/step - loss: 7.6236e-04 - val_loss: 0.0075\n",
            "Epoch 38/300\n",
            "66/67 [============================>.] - ETA: 0s - loss: 7.9011e-04\n",
            "Epoch 38: val_loss did not improve from 0.00746\n",
            "67/67 [==============================] - 1s 14ms/step - loss: 8.3731e-04 - val_loss: 0.0077\n",
            "Epoch 39/300\n",
            "64/67 [===========================>..] - ETA: 0s - loss: 5.9505e-04\n",
            "Epoch 39: val_loss did not improve from 0.00746\n",
            "67/67 [==============================] - 1s 14ms/step - loss: 7.2105e-04 - val_loss: 0.0079\n",
            "Epoch 40/300\n",
            "66/67 [============================>.] - ETA: 0s - loss: 7.2184e-04\n",
            "Epoch 40: val_loss improved from 0.00746 to 0.00745, saving model to my_best_model.hdf5\n",
            "67/67 [==============================] - 1s 14ms/step - loss: 7.5021e-04 - val_loss: 0.0074\n",
            "Epoch 41/300\n",
            "66/67 [============================>.] - ETA: 0s - loss: 6.4162e-04\n",
            "Epoch 41: val_loss improved from 0.00745 to 0.00739, saving model to my_best_model.hdf5\n",
            "67/67 [==============================] - 1s 14ms/step - loss: 6.6547e-04 - val_loss: 0.0074\n",
            "Epoch 42/300\n",
            "66/67 [============================>.] - ETA: 0s - loss: 7.0694e-04\n",
            "Epoch 42: val_loss did not improve from 0.00739\n",
            "67/67 [==============================] - 1s 13ms/step - loss: 7.5375e-04 - val_loss: 0.0076\n",
            "Epoch 43/300\n",
            "64/67 [===========================>..] - ETA: 0s - loss: 6.4616e-04\n",
            "Epoch 43: val_loss did not improve from 0.00739\n",
            "67/67 [==============================] - 1s 13ms/step - loss: 8.3281e-04 - val_loss: 0.0075\n",
            "Epoch 44/300\n",
            "64/67 [===========================>..] - ETA: 0s - loss: 6.4440e-04\n",
            "Epoch 44: val_loss did not improve from 0.00739\n",
            "67/67 [==============================] - 1s 13ms/step - loss: 7.8063e-04 - val_loss: 0.0080\n",
            "Epoch 45/300\n",
            "67/67 [==============================] - ETA: 0s - loss: 7.8334e-04\n",
            "Epoch 45: val_loss improved from 0.00739 to 0.00730, saving model to my_best_model.hdf5\n",
            "67/67 [==============================] - 1s 14ms/step - loss: 7.8334e-04 - val_loss: 0.0073\n",
            "Epoch 46/300\n",
            "65/67 [============================>.] - ETA: 0s - loss: 5.4847e-04\n",
            "Epoch 46: val_loss did not improve from 0.00730\n",
            "67/67 [==============================] - 1s 13ms/step - loss: 6.2681e-04 - val_loss: 0.0073\n",
            "Epoch 47/300\n",
            "67/67 [==============================] - ETA: 0s - loss: 7.3152e-04\n",
            "Epoch 47: val_loss did not improve from 0.00730\n",
            "67/67 [==============================] - 1s 14ms/step - loss: 7.3152e-04 - val_loss: 0.0074\n",
            "Epoch 48/300\n",
            "66/67 [============================>.] - ETA: 0s - loss: 5.5637e-04\n",
            "Epoch 48: val_loss did not improve from 0.00730\n",
            "67/67 [==============================] - 1s 15ms/step - loss: 5.9962e-04 - val_loss: 0.0074\n",
            "Epoch 49/300\n",
            "65/67 [============================>.] - ETA: 0s - loss: 6.2269e-04\n",
            "Epoch 49: val_loss did not improve from 0.00730\n",
            "67/67 [==============================] - 1s 14ms/step - loss: 6.7735e-04 - val_loss: 0.0075\n",
            "Epoch 50/300\n",
            "66/67 [============================>.] - ETA: 0s - loss: 5.7035e-04\n",
            "Epoch 50: val_loss improved from 0.00730 to 0.00720, saving model to my_best_model.hdf5\n",
            "67/67 [==============================] - 1s 14ms/step - loss: 5.8456e-04 - val_loss: 0.0072\n",
            "Epoch 51/300\n",
            "65/67 [============================>.] - ETA: 0s - loss: 5.4746e-04\n",
            "Epoch 51: val_loss did not improve from 0.00720\n",
            "67/67 [==============================] - 1s 14ms/step - loss: 6.1898e-04 - val_loss: 0.0074\n",
            "Epoch 52/300\n",
            "65/67 [============================>.] - ETA: 0s - loss: 5.1011e-04\n",
            "Epoch 52: val_loss did not improve from 0.00720\n",
            "67/67 [==============================] - 1s 14ms/step - loss: 5.4238e-04 - val_loss: 0.0075\n",
            "Epoch 53/300\n",
            "65/67 [============================>.] - ETA: 0s - loss: 6.9958e-04\n",
            "Epoch 53: val_loss did not improve from 0.00720\n",
            "67/67 [==============================] - 1s 15ms/step - loss: 8.2086e-04 - val_loss: 0.0076\n",
            "Epoch 54/300\n",
            "65/67 [============================>.] - ETA: 0s - loss: 7.3815e-04\n",
            "Epoch 54: val_loss did not improve from 0.00720\n",
            "67/67 [==============================] - 1s 14ms/step - loss: 8.1594e-04 - val_loss: 0.0074\n",
            "Epoch 55/300\n",
            "66/67 [============================>.] - ETA: 0s - loss: 7.0883e-04\n",
            "Epoch 55: val_loss did not improve from 0.00720\n",
            "67/67 [==============================] - 1s 14ms/step - loss: 7.6749e-04 - val_loss: 0.0075\n",
            "Epoch 56/300\n",
            "65/67 [============================>.] - ETA: 0s - loss: 7.7362e-04\n",
            "Epoch 56: val_loss did not improve from 0.00720\n",
            "67/67 [==============================] - 1s 14ms/step - loss: 9.2090e-04 - val_loss: 0.0078\n",
            "Epoch 57/300\n",
            "65/67 [============================>.] - ETA: 0s - loss: 7.2146e-04\n",
            "Epoch 57: val_loss did not improve from 0.00720\n",
            "67/67 [==============================] - 1s 14ms/step - loss: 8.2661e-04 - val_loss: 0.0079\n",
            "Epoch 58/300\n",
            "66/67 [============================>.] - ETA: 0s - loss: 7.4737e-04\n",
            "Epoch 58: val_loss did not improve from 0.00720\n",
            "67/67 [==============================] - 1s 14ms/step - loss: 7.9004e-04 - val_loss: 0.0076\n",
            "Epoch 59/300\n",
            "66/67 [============================>.] - ETA: 0s - loss: 7.8739e-04\n",
            "Epoch 59: val_loss did not improve from 0.00720\n",
            "67/67 [==============================] - 1s 14ms/step - loss: 8.1145e-04 - val_loss: 0.0077\n",
            "Epoch 60/300\n",
            "66/67 [============================>.] - ETA: 0s - loss: 8.5264e-04\n",
            "Epoch 60: val_loss did not improve from 0.00720\n",
            "67/67 [==============================] - 1s 14ms/step - loss: 9.4232e-04 - val_loss: 0.0080\n"
          ]
        }
      ]
    },
    {
      "cell_type": "code",
      "source": [
        "plt.figure(figsize=(16,7))\n",
        "plt.plot(history.history['loss'], label='train')\n",
        "\n",
        "plt.plot(history.history['val_loss'], label='test')\n",
        "plt.legend()\n",
        "plt.show()"
      ],
      "metadata": {
        "colab": {
          "base_uri": "https://localhost:8080/",
          "height": 425
        },
        "id": "JVaRwuy9AqR2",
        "outputId": "5f4b093b-1d9c-4615-97d4-a14c6b434f5b"
      },
      "execution_count": 29,
      "outputs": [
        {
          "output_type": "display_data",
          "data": {
            "text/plain": [
              "<Figure size 1152x504 with 1 Axes>"
            ],
            "image/png": "[encoded data removed]"
          },
          "metadata": {}
        }
      ]
    },
    {
      "cell_type": "code",
      "source": [
        " #Transformation to original form and making the predictions\n",
        "\n",
        "# predicted_btc_price_test_data = regressor.predict(testX)\n",
        "\n",
        "from tensorflow.keras.models import load_model\n",
        "\n",
        "model_from_saved_checkpoint = load_model(checkpoint_path)\n",
        "\n",
        "predicted_btc_price_test_data = model_from_saved_checkpoint.predict(testX)\n",
        "\n",
        "predicted_btc_price_test_data = scaler_test.inverse_transform(predicted_btc_price_test_data.reshape(-1, 1))\n",
        "\n",
        "test_actual = scaler_test.inverse_transform(testY.reshape(-1, 1))"
      ],
      "metadata": {
        "colab": {
          "base_uri": "https://localhost:8080/"
        },
        "id": "nVdyb8VGA9YO",
        "outputId": "db5175d3-f794-4446-d870-6f557029e3c6"
      },
      "execution_count": 30,
      "outputs": [
        {
          "output_type": "stream",
          "name": "stderr",
          "text": [
            "WARNING:tensorflow:Layer lstm will not use cuDNN kernels since it doesn't meet the criteria. It will use a generic GPU kernel as fallback when running on GPU.\n"
          ]
        },
        {
          "output_type": "stream",
          "name": "stdout",
          "text": [
            "2/2 [==============================] - 0s 8ms/step\n"
          ]
        }
      ]
    },
    {
      "cell_type": "code",
      "source": [
        "predicted_btc_price_test_data"
      ],
      "metadata": {
        "colab": {
          "base_uri": "https://localhost:8080/"
        },
        "id": "V1-S2X6ICsTN",
        "outputId": "d2e0a3c8-16b1-46b6-90e6-fbdcb7e950a3"
      },
      "execution_count": 31,
      "outputs": [
        {
          "output_type": "execute_result",
          "data": {
            "text/plain": [
              "array([[51160.35 ],\n",
              "       [51930.336],\n",
              "       [51599.85 ],\n",
              "       [49590.426],\n",
              "       [47703.773],\n",
              "       [46228.34 ],\n",
              "       [45810.027],\n",
              "       [46025.375],\n",
              "       [45673.875],\n",
              "       [46007.58 ],\n",
              "       [47006.17 ],\n",
              "       [48146.98 ],\n",
              "       [48551.8  ],\n",
              "       [48810.266],\n",
              "       [48836.844],\n",
              "       [47482.6  ],\n",
              "       [45749.59 ],\n",
              "       [44253.383],\n",
              "       [43502.49 ],\n",
              "       [43289.047],\n",
              "       [43391.574],\n",
              "       [43239.28 ],\n",
              "       [43211.605],\n",
              "       [43113.1  ],\n",
              "       [42826.586],\n",
              "       [42779.082],\n",
              "       [43887.875],\n",
              "       [45962.375],\n",
              "       [47724.258],\n",
              "       [48877.715],\n",
              "       [49911.234],\n",
              "       [51746.824],\n",
              "       [53474.12 ],\n",
              "       [54565.156],\n",
              "       [55198.65 ],\n",
              "       [55533.062],\n",
              "       [56400.145],\n",
              "       [56835.258],\n",
              "       [56675.56 ],\n",
              "       [57162.836],\n",
              "       [58890.555],\n",
              "       [59987.035],\n",
              "       [60250.63 ],\n",
              "       [60982.79 ],\n",
              "       [62142.867],\n",
              "       [63548.027],\n",
              "       [63726.188],\n",
              "       [62959.746],\n",
              "       [62197.32 ],\n",
              "       [62004.387],\n",
              "       [62577.508],\n",
              "       [62694.797],\n",
              "       [61202.61 ],\n",
              "       [60566.754],\n",
              "       [61441.145]], dtype=float32)"
            ]
          },
          "metadata": {},
          "execution_count": 31
        }
      ]
    },
    {
      "cell_type": "code",
      "source": [
        "plt.figure(figsize=(16,7))\n",
        "\n",
        "plt.plot(predicted_btc_price_test_data, 'r', marker='.', label='Predicted Train')\n",
        "\n",
        "plt.plot(test_actual, marker='.', label='Actual Train')\n",
        "\n",
        "plt.legend()\n",
        "plt.show()"
      ],
      "metadata": {
        "colab": {
          "base_uri": "https://localhost:8080/",
          "height": 425
        },
        "id": "9Bt1XlQ6C18b",
        "outputId": "0ba90d62-c8a1-44be-b40e-754ef83d5c52"
      },
      "execution_count": 32,
      "outputs": [
        {
          "output_type": "display_data",
          "data": {
            "text/plain": [
              "<Figure size 1152x504 with 1 Axes>"
            ],
            "image/png": "[encoded data removed]"
          },
          "metadata": {}
        }
      ]
    },
    {
      "cell_type": "code",
      "source": [
        "rmse_lstm_test = math.sqrt(mean_squared_error(test_actual, predicted_btc_price_test_data))\n",
        "\n",
        "print('Test RMSE: %.3f' % rmse_lstm_test)\n",
        "\n",
        "# With 2 Layers + Dropout + lookback=5 => I got - Test RMSE: 1666.162  => This seems best"
      ],
      "metadata": {
        "colab": {
          "base_uri": "https://localhost:8080/"
        },
        "id": "xLpKyCMPEeOr",
        "outputId": "6a5dab78-474c-4619-f852-4ede6bc22f9f"
      },
      "execution_count": 33,
      "outputs": [
        {
          "output_type": "stream",
          "name": "stdout",
          "text": [
            "Test RMSE: 1962.812\n"
          ]
        }
      ]
    }
  ]
}